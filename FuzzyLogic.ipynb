{
  "nbformat": 4,
  "nbformat_minor": 0,
  "metadata": {
    "colab": {
      "name": "Source_code_tupro2_kelompok5_if4303.ipynb",
      "provenance": [],
      "collapsed_sections": []
    },
    "kernelspec": {
      "name": "python3",
      "display_name": "Python 3"
    },
    "language_info": {
      "name": "python"
    }
  },
  "cells": [
    {
      "cell_type": "markdown",
      "metadata": {
        "id": "fSHW__pZVRdn"
      },
      "source": [
        "Fuzzy Logic Kelompok 5 Kelas IF 43 03\n",
        "\n",
        "Restu Aditya Rachman \t\t\t(1301190433)\n",
        "\n",
        "Muhamad Hasbi Ashshiddiqi\t\t(1301190476) \n",
        "\n",
        "Muhammad Rizqi Ramadhan \t\t(1301193325)"
      ]
    },
    {
      "cell_type": "code",
      "metadata": {
        "id": "Qx9TksFGytgr",
        "colab": {
          "base_uri": "https://localhost:8080/"
        },
        "outputId": "670a0165-086e-4d0c-d9b0-f56cda0f2ac6"
      },
      "source": [
        "!gdown --id 1jAUy_KgQxuSYRxoOzvl_ywZBZRTFRwSC"
      ],
      "execution_count": null,
      "outputs": [
        {
          "output_type": "stream",
          "text": [
            "Downloading...\n",
            "From: https://drive.google.com/uc?id=1jAUy_KgQxuSYRxoOzvl_ywZBZRTFRwSC\n",
            "To: /content/restoran.xlsx\n",
            "\r  0% 0.00/10.5k [00:00<?, ?B/s]\r100% 10.5k/10.5k [00:00<00:00, 22.0MB/s]\n"
          ],
          "name": "stdout"
        }
      ]
    },
    {
      "cell_type": "code",
      "metadata": {
        "id": "prkbpyTY24FX",
        "colab": {
          "base_uri": "https://localhost:8080/",
          "height": 402
        },
        "outputId": "7a62eed3-7972-4a83-c17a-2bf8ade0c545"
      },
      "source": [
        "import pandas as pd \n",
        "import matplotlib.pyplot as plt\n",
        "import numpy as np\n",
        "\n",
        "df = pd.read_excel('restoran.xlsx')\n",
        "\n",
        "df"
      ],
      "execution_count": null,
      "outputs": [
        {
          "output_type": "execute_result",
          "data": {
            "text/html": [
              "<div>\n",
              "<style scoped>\n",
              "    .dataframe tbody tr th:only-of-type {\n",
              "        vertical-align: middle;\n",
              "    }\n",
              "\n",
              "    .dataframe tbody tr th {\n",
              "        vertical-align: top;\n",
              "    }\n",
              "\n",
              "    .dataframe thead th {\n",
              "        text-align: right;\n",
              "    }\n",
              "</style>\n",
              "<table border=\"1\" class=\"dataframe\">\n",
              "  <thead>\n",
              "    <tr style=\"text-align: right;\">\n",
              "      <th></th>\n",
              "      <th>id</th>\n",
              "      <th>pelayanan</th>\n",
              "      <th>makanan</th>\n",
              "    </tr>\n",
              "  </thead>\n",
              "  <tbody>\n",
              "    <tr>\n",
              "      <th>0</th>\n",
              "      <td>1</td>\n",
              "      <td>58</td>\n",
              "      <td>7</td>\n",
              "    </tr>\n",
              "    <tr>\n",
              "      <th>1</th>\n",
              "      <td>2</td>\n",
              "      <td>54</td>\n",
              "      <td>1</td>\n",
              "    </tr>\n",
              "    <tr>\n",
              "      <th>2</th>\n",
              "      <td>3</td>\n",
              "      <td>98</td>\n",
              "      <td>2</td>\n",
              "    </tr>\n",
              "    <tr>\n",
              "      <th>3</th>\n",
              "      <td>4</td>\n",
              "      <td>52</td>\n",
              "      <td>4</td>\n",
              "    </tr>\n",
              "    <tr>\n",
              "      <th>4</th>\n",
              "      <td>5</td>\n",
              "      <td>11</td>\n",
              "      <td>4</td>\n",
              "    </tr>\n",
              "    <tr>\n",
              "      <th>...</th>\n",
              "      <td>...</td>\n",
              "      <td>...</td>\n",
              "      <td>...</td>\n",
              "    </tr>\n",
              "    <tr>\n",
              "      <th>95</th>\n",
              "      <td>96</td>\n",
              "      <td>30</td>\n",
              "      <td>1</td>\n",
              "    </tr>\n",
              "    <tr>\n",
              "      <th>96</th>\n",
              "      <td>97</td>\n",
              "      <td>25</td>\n",
              "      <td>3</td>\n",
              "    </tr>\n",
              "    <tr>\n",
              "      <th>97</th>\n",
              "      <td>98</td>\n",
              "      <td>27</td>\n",
              "      <td>10</td>\n",
              "    </tr>\n",
              "    <tr>\n",
              "      <th>98</th>\n",
              "      <td>99</td>\n",
              "      <td>8</td>\n",
              "      <td>6</td>\n",
              "    </tr>\n",
              "    <tr>\n",
              "      <th>99</th>\n",
              "      <td>100</td>\n",
              "      <td>11</td>\n",
              "      <td>8</td>\n",
              "    </tr>\n",
              "  </tbody>\n",
              "</table>\n",
              "<p>100 rows × 3 columns</p>\n",
              "</div>"
            ],
            "text/plain": [
              "     id  pelayanan  makanan\n",
              "0     1         58        7\n",
              "1     2         54        1\n",
              "2     3         98        2\n",
              "3     4         52        4\n",
              "4     5         11        4\n",
              "..  ...        ...      ...\n",
              "95   96         30        1\n",
              "96   97         25        3\n",
              "97   98         27       10\n",
              "98   99          8        6\n",
              "99  100         11        8\n",
              "\n",
              "[100 rows x 3 columns]"
            ]
          },
          "metadata": {
            "tags": []
          },
          "execution_count": 2
        }
      ]
    },
    {
      "cell_type": "code",
      "metadata": {
        "colab": {
          "base_uri": "https://localhost:8080/",
          "height": 282
        },
        "id": "H8Y-YBme4fHf",
        "outputId": "3f042d22-5542-480f-b9f8-85432ee18640"
      },
      "source": [
        "plt.scatter(df.pelayanan, df.makanan)"
      ],
      "execution_count": null,
      "outputs": [
        {
          "output_type": "execute_result",
          "data": {
            "text/plain": [
              "<matplotlib.collections.PathCollection at 0x7f1ae7ef5850>"
            ]
          },
          "metadata": {
            "tags": []
          },
          "execution_count": 3
        },
        {
          "output_type": "display_data",
          "data": {
            "image/png": "[encoded data removed]",
            "text/plain": [
              "<Figure size 432x288 with 1 Axes>"
            ]
          },
          "metadata": {
            "tags": [],
            "needs_background": "light"
          }
        }
      ]
    },
    {
      "cell_type": "code",
      "metadata": {
        "id": "PynBfuMn4ihc"
      },
      "source": [
        "def beta(x,c,b):\n",
        "  return 1/(1+ abs((x-c)/b)**2)\n",
        "\n",
        "def plot_linguistik(titik, warna, label, min, max):\n",
        "  x = np.arange(min, max, 0.1)\n",
        "  y = beta(x,titik[0],titik[1])\n",
        "  plt.plot(x,y, color=warna, label=label)\n",
        "\n",
        "def plot_membership(membership, min, max):\n",
        "  warna = ['r','g','b','c']\n",
        "\n",
        "  i = 0\n",
        "  for ling in membership:\n",
        "    plot_linguistik(membership[ling], warna[i], ling, min, max)\n",
        "    i += 1\n",
        "  plt.legend(loc=3)\n",
        "  plt.show()"
      ],
      "execution_count": null,
      "outputs": []
    },
    {
      "cell_type": "code",
      "metadata": {
        "id": "lczQ8FFCdgPN"
      },
      "source": [
        "pelayanan = {\n",
        "    'low' : [0, 20],\n",
        "    'avg' : [50, 20],\n",
        "    'high': [100, 15]\n",
        "}\n",
        "\n",
        "makanan = {\n",
        "    'low' : [0,2],\n",
        "    'avg' : [4,2],\n",
        "    'high': [10,2]\n",
        "}"
      ],
      "execution_count": null,
      "outputs": []
    },
    {
      "cell_type": "code",
      "metadata": {
        "colab": {
          "base_uri": "https://localhost:8080/",
          "height": 265
        },
        "id": "KqfKYVy2dku4",
        "outputId": "58062f83-8016-4520-e9d0-51c2d7ee2d64"
      },
      "source": [
        "plot_membership(pelayanan, min = 0, max = 100)"
      ],
      "execution_count": null,
      "outputs": [
        {
          "output_type": "display_data",
          "data": {
            "image/png": "[encoded data removed]",
            "text/plain": [
              "<Figure size 432x288 with 1 Axes>"
            ]
          },
          "metadata": {
            "tags": [],
            "needs_background": "light"
          }
        }
      ]
    },
    {
      "cell_type": "code",
      "metadata": {
        "colab": {
          "base_uri": "https://localhost:8080/",
          "height": 265
        },
        "id": "5pOmSruzeLWH",
        "outputId": "09658e1e-4445-472d-863a-38e02c251ffe"
      },
      "source": [
        "plot_membership(makanan, min = 0, max = 10)"
      ],
      "execution_count": null,
      "outputs": [
        {
          "output_type": "display_data",
          "data": {
            "image/png": "[encoded data removed]",
            "text/plain": [
              "<Figure size 432x288 with 1 Axes>"
            ]
          },
          "metadata": {
            "tags": [],
            "needs_background": "light"
          }
        }
      ]
    },
    {
      "cell_type": "code",
      "metadata": {
        "id": "4Owp1f_9kp3g"
      },
      "source": [
        "def fuzzy_linguistik(x, titik):\n",
        "  return beta(x,titik[0],titik[1])\n",
        "\n",
        "def fuzzy_membership(x, membership):\n",
        "  hasil = {}\n",
        "\n",
        "  for ling in membership:\n",
        "    hasil[ling] = fuzzy_linguistik(x, membership[ling])\n",
        "\n",
        "  return hasil\n",
        "\n",
        "def fuzzyfikasi(x, list_membership):\n",
        "  hasil = []\n",
        "  for i in range(len(list_membership)):\n",
        "    hasil.append(fuzzy_membership(x[i], list_membership[i]))\n",
        "\n",
        "  return hasil"
      ],
      "execution_count": null,
      "outputs": []
    },
    {
      "cell_type": "code",
      "metadata": {
        "colab": {
          "base_uri": "https://localhost:8080/"
        },
        "id": "zY7s2GBr8fi7",
        "outputId": "1f441ace-ddcf-4112-bb17-5f1e9d78ceb4"
      },
      "source": [
        "x_fuzzy = fuzzyfikasi([80, 7], [pelayanan, makanan])\n",
        "x_fuzzy"
      ],
      "execution_count": null,
      "outputs": [
        {
          "output_type": "execute_result",
          "data": {
            "text/plain": [
              "[{'avg': 0.3076923076923077, 'high': 0.36, 'low': 0.058823529411764705},\n",
              " {'avg': 0.3076923076923077,\n",
              "  'high': 0.3076923076923077,\n",
              "  'low': 0.07547169811320754}]"
            ]
          },
          "metadata": {
            "tags": []
          },
          "execution_count": 18
        }
      ]
    },
    {
      "cell_type": "code",
      "metadata": {
        "id": "gAQKlhTGjk-U"
      },
      "source": [
        "rule = {\n",
        "    ('high', 'low')   : 'reject',\n",
        "    ('high', 'avg')   : 'consider',\n",
        "    ('high', 'high')  : 'accept',\n",
        "    ('avg', 'low')   : 'reject',\n",
        "    ('avg', 'avg')   : 'consider',\n",
        "    ('avg', 'high')  : 'consider',\n",
        "    ('low', 'low')  : 'reject',\n",
        "    ('low', 'avg')  : 'reject',\n",
        "    ('low', 'high') : 'reject',\n",
        "}"
      ],
      "execution_count": null,
      "outputs": []
    },
    {
      "cell_type": "code",
      "metadata": {
        "id": "IgkBTdEXMf-D"
      },
      "source": [
        "def inferensi(x_fuzzy, rule):\n",
        "  hasil = {}\n",
        "  for l1, v1 in x_fuzzy[0].items():\n",
        "    for l2, v2 in x_fuzzy[1].items():\n",
        "\n",
        "      r, min_value = (l1, l2), min(v1, v2)\n",
        "\n",
        "      current_value = hasil.get(rule[r], 0)\n",
        "      hasil[rule[r]] = max(min_value, current_value)\n",
        "  return hasil"
      ],
      "execution_count": null,
      "outputs": []
    },
    {
      "cell_type": "code",
      "metadata": {
        "colab": {
          "base_uri": "https://localhost:8080/"
        },
        "id": "Pjx2Bngb9jSM",
        "outputId": "a36cdd27-ab8d-4b8d-9f5c-72d04a6f7660"
      },
      "source": [
        "x_infer = inferensi(x_fuzzy, rule)\n",
        "x_infer"
      ],
      "execution_count": null,
      "outputs": [
        {
          "output_type": "execute_result",
          "data": {
            "text/plain": [
              "{'accept': 0.3076923076923077,\n",
              " 'consider': 0.3076923076923077,\n",
              " 'reject': 0.07547169811320754}"
            ]
          },
          "metadata": {
            "tags": []
          },
          "execution_count": 19
        }
      ]
    },
    {
      "cell_type": "code",
      "metadata": {
        "id": "sn3ab-B4M0Hy"
      },
      "source": [
        "def defuzz_sugeno(x_infer, membership):\n",
        "  num, den = 0, 0\n",
        "\n",
        "  for ling in membership:\n",
        "    num += x_infer[ling] * membership[ling]\n",
        "    den += x_infer[ling]\n",
        "\n",
        "  return num / den"
      ],
      "execution_count": null,
      "outputs": []
    },
    {
      "cell_type": "code",
      "metadata": {
        "colab": {
          "base_uri": "https://localhost:8080/",
          "height": 282
        },
        "id": "4NugBZm3MkBU",
        "outputId": "99a00d95-3c00-4b3d-8e60-b1237fde174d"
      },
      "source": [
        "accept_sugeno = {'accept':100, 'consider':70, 'reject':50}\n",
        "\n",
        "# plot membership sugeno\n",
        "colors = 'rgb'\n",
        "for key, val in accept_sugeno.items():\n",
        "  plt.plot([val, val], [0,1], colors[0], label = key)\n",
        "  colors = colors[1:]\n",
        "plt.legend(loc=3)"
      ],
      "execution_count": null,
      "outputs": [
        {
          "output_type": "execute_result",
          "data": {
            "text/plain": [
              "<matplotlib.legend.Legend at 0x7f1ae7822c10>"
            ]
          },
          "metadata": {
            "tags": []
          },
          "execution_count": 12
        },
        {
          "output_type": "display_data",
          "data": {
            "image/png": "[encoded data removed]",
            "text/plain": [
              "<Figure size 432x288 with 1 Axes>"
            ]
          },
          "metadata": {
            "tags": [],
            "needs_background": "light"
          }
        }
      ]
    },
    {
      "cell_type": "code",
      "metadata": {
        "colab": {
          "base_uri": "https://localhost:8080/"
        },
        "id": "aFrGLgNC-kSz",
        "outputId": "607fb9fd-f8b1-4d85-dd7e-ee9e138d453f"
      },
      "source": [
        "defuzz_sugeno(x_infer, accept_sugeno)"
      ],
      "execution_count": null,
      "outputs": [
        {
          "output_type": "execute_result",
          "data": {
            "text/plain": [
              "81.17647058823529"
            ]
          },
          "metadata": {
            "tags": []
          },
          "execution_count": 21
        }
      ]
    },
    {
      "cell_type": "code",
      "metadata": {
        "id": "Pk8dpfJAMpQq"
      },
      "source": [
        "skor = []\n",
        "for x in df.drop('id', axis=1).values:\n",
        "  x_fuzzy = fuzzyfikasi(x, [pelayanan, makanan])\n",
        "  x_infer = inferensi(x_fuzzy, rule)\n",
        "  x_defuz = defuzz_sugeno(x_infer, accept_sugeno)\n",
        "  skor.append(x_defuz)\n",
        "\n",
        "df['Skor'] = skor"
      ],
      "execution_count": null,
      "outputs": []
    },
    {
      "cell_type": "code",
      "metadata": {
        "colab": {
          "base_uri": "https://localhost:8080/",
          "height": 402
        },
        "id": "uGYt1UO86grM",
        "outputId": "32d5786e-9cca-4310-8375-fa9a5af38fdd"
      },
      "source": [
        "sortdf = df.sort_values(by='Skor', ascending=False)\n",
        "sortdf"
      ],
      "execution_count": null,
      "outputs": [
        {
          "output_type": "execute_result",
          "data": {
            "text/html": [
              "<div>\n",
              "<style scoped>\n",
              "    .dataframe tbody tr th:only-of-type {\n",
              "        vertical-align: middle;\n",
              "    }\n",
              "\n",
              "    .dataframe tbody tr th {\n",
              "        vertical-align: top;\n",
              "    }\n",
              "\n",
              "    .dataframe thead th {\n",
              "        text-align: right;\n",
              "    }\n",
              "</style>\n",
              "<table border=\"1\" class=\"dataframe\">\n",
              "  <thead>\n",
              "    <tr style=\"text-align: right;\">\n",
              "      <th></th>\n",
              "      <th>id</th>\n",
              "      <th>pelayanan</th>\n",
              "      <th>makanan</th>\n",
              "      <th>Skor</th>\n",
              "    </tr>\n",
              "  </thead>\n",
              "  <tbody>\n",
              "    <tr>\n",
              "      <th>23</th>\n",
              "      <td>24</td>\n",
              "      <td>100</td>\n",
              "      <td>9</td>\n",
              "      <td>93.410214</td>\n",
              "    </tr>\n",
              "    <tr>\n",
              "      <th>41</th>\n",
              "      <td>42</td>\n",
              "      <td>94</td>\n",
              "      <td>10</td>\n",
              "      <td>93.217208</td>\n",
              "    </tr>\n",
              "    <tr>\n",
              "      <th>78</th>\n",
              "      <td>79</td>\n",
              "      <td>87</td>\n",
              "      <td>9</td>\n",
              "      <td>89.032958</td>\n",
              "    </tr>\n",
              "    <tr>\n",
              "      <th>68</th>\n",
              "      <td>69</td>\n",
              "      <td>86</td>\n",
              "      <td>10</td>\n",
              "      <td>88.265702</td>\n",
              "    </tr>\n",
              "    <tr>\n",
              "      <th>21</th>\n",
              "      <td>22</td>\n",
              "      <td>79</td>\n",
              "      <td>9</td>\n",
              "      <td>82.396746</td>\n",
              "    </tr>\n",
              "    <tr>\n",
              "      <th>...</th>\n",
              "      <td>...</td>\n",
              "      <td>...</td>\n",
              "      <td>...</td>\n",
              "      <td>...</td>\n",
              "    </tr>\n",
              "    <tr>\n",
              "      <th>10</th>\n",
              "      <td>11</td>\n",
              "      <td>10</td>\n",
              "      <td>5</td>\n",
              "      <td>55.210526</td>\n",
              "    </tr>\n",
              "    <tr>\n",
              "      <th>34</th>\n",
              "      <td>35</td>\n",
              "      <td>4</td>\n",
              "      <td>1</td>\n",
              "      <td>54.447696</td>\n",
              "    </tr>\n",
              "    <tr>\n",
              "      <th>65</th>\n",
              "      <td>66</td>\n",
              "      <td>4</td>\n",
              "      <td>9</td>\n",
              "      <td>54.447696</td>\n",
              "    </tr>\n",
              "    <tr>\n",
              "      <th>17</th>\n",
              "      <td>18</td>\n",
              "      <td>3</td>\n",
              "      <td>9</td>\n",
              "      <td>54.335187</td>\n",
              "    </tr>\n",
              "    <tr>\n",
              "      <th>80</th>\n",
              "      <td>81</td>\n",
              "      <td>4</td>\n",
              "      <td>10</td>\n",
              "      <td>53.819853</td>\n",
              "    </tr>\n",
              "  </tbody>\n",
              "</table>\n",
              "<p>100 rows × 4 columns</p>\n",
              "</div>"
            ],
            "text/plain": [
              "    id  pelayanan  makanan       Skor\n",
              "23  24        100        9  93.410214\n",
              "41  42         94       10  93.217208\n",
              "78  79         87        9  89.032958\n",
              "68  69         86       10  88.265702\n",
              "21  22         79        9  82.396746\n",
              "..  ..        ...      ...        ...\n",
              "10  11         10        5  55.210526\n",
              "34  35          4        1  54.447696\n",
              "65  66          4        9  54.447696\n",
              "17  18          3        9  54.335187\n",
              "80  81          4       10  53.819853\n",
              "\n",
              "[100 rows x 4 columns]"
            ]
          },
          "metadata": {
            "tags": []
          },
          "execution_count": 14
        }
      ]
    },
    {
      "cell_type": "code",
      "metadata": {
        "colab": {
          "base_uri": "https://localhost:8080/",
          "height": 343
        },
        "id": "EyMWfVyYM75v",
        "outputId": "ec21484c-c995-4c0e-b719-f931732c5088"
      },
      "source": [
        "df_restoran_terbaik = sortdf[:10]\n",
        "df_lainya = df.drop(df_restoran_terbaik.index)\n",
        "\n",
        "df_restoran_terbaik"
      ],
      "execution_count": null,
      "outputs": [
        {
          "output_type": "execute_result",
          "data": {
            "text/html": [
              "<div>\n",
              "<style scoped>\n",
              "    .dataframe tbody tr th:only-of-type {\n",
              "        vertical-align: middle;\n",
              "    }\n",
              "\n",
              "    .dataframe tbody tr th {\n",
              "        vertical-align: top;\n",
              "    }\n",
              "\n",
              "    .dataframe thead th {\n",
              "        text-align: right;\n",
              "    }\n",
              "</style>\n",
              "<table border=\"1\" class=\"dataframe\">\n",
              "  <thead>\n",
              "    <tr style=\"text-align: right;\">\n",
              "      <th></th>\n",
              "      <th>id</th>\n",
              "      <th>pelayanan</th>\n",
              "      <th>makanan</th>\n",
              "      <th>Skor</th>\n",
              "    </tr>\n",
              "  </thead>\n",
              "  <tbody>\n",
              "    <tr>\n",
              "      <th>23</th>\n",
              "      <td>24</td>\n",
              "      <td>100</td>\n",
              "      <td>9</td>\n",
              "      <td>93.410214</td>\n",
              "    </tr>\n",
              "    <tr>\n",
              "      <th>41</th>\n",
              "      <td>42</td>\n",
              "      <td>94</td>\n",
              "      <td>10</td>\n",
              "      <td>93.217208</td>\n",
              "    </tr>\n",
              "    <tr>\n",
              "      <th>78</th>\n",
              "      <td>79</td>\n",
              "      <td>87</td>\n",
              "      <td>9</td>\n",
              "      <td>89.032958</td>\n",
              "    </tr>\n",
              "    <tr>\n",
              "      <th>68</th>\n",
              "      <td>69</td>\n",
              "      <td>86</td>\n",
              "      <td>10</td>\n",
              "      <td>88.265702</td>\n",
              "    </tr>\n",
              "    <tr>\n",
              "      <th>21</th>\n",
              "      <td>22</td>\n",
              "      <td>79</td>\n",
              "      <td>9</td>\n",
              "      <td>82.396746</td>\n",
              "    </tr>\n",
              "    <tr>\n",
              "      <th>69</th>\n",
              "      <td>70</td>\n",
              "      <td>78</td>\n",
              "      <td>8</td>\n",
              "      <td>81.559376</td>\n",
              "    </tr>\n",
              "    <tr>\n",
              "      <th>62</th>\n",
              "      <td>63</td>\n",
              "      <td>78</td>\n",
              "      <td>7</td>\n",
              "      <td>81.176471</td>\n",
              "    </tr>\n",
              "    <tr>\n",
              "      <th>30</th>\n",
              "      <td>31</td>\n",
              "      <td>74</td>\n",
              "      <td>9</td>\n",
              "      <td>78.424869</td>\n",
              "    </tr>\n",
              "    <tr>\n",
              "      <th>59</th>\n",
              "      <td>60</td>\n",
              "      <td>79</td>\n",
              "      <td>6</td>\n",
              "      <td>76.271186</td>\n",
              "    </tr>\n",
              "    <tr>\n",
              "      <th>15</th>\n",
              "      <td>16</td>\n",
              "      <td>82</td>\n",
              "      <td>6</td>\n",
              "      <td>75.635104</td>\n",
              "    </tr>\n",
              "  </tbody>\n",
              "</table>\n",
              "</div>"
            ],
            "text/plain": [
              "    id  pelayanan  makanan       Skor\n",
              "23  24        100        9  93.410214\n",
              "41  42         94       10  93.217208\n",
              "78  79         87        9  89.032958\n",
              "68  69         86       10  88.265702\n",
              "21  22         79        9  82.396746\n",
              "69  70         78        8  81.559376\n",
              "62  63         78        7  81.176471\n",
              "30  31         74        9  78.424869\n",
              "59  60         79        6  76.271186\n",
              "15  16         82        6  75.635104"
            ]
          },
          "metadata": {
            "tags": []
          },
          "execution_count": 15
        }
      ]
    },
    {
      "cell_type": "code",
      "metadata": {
        "colab": {
          "base_uri": "https://localhost:8080/",
          "height": 295
        },
        "id": "AzNUhrwPPA0f",
        "outputId": "2c2050c5-93b6-4c35-9d39-271f736232d6"
      },
      "source": [
        "plt.scatter(df_restoran_terbaik.pelayanan,\n",
        "            df_restoran_terbaik.makanan,\n",
        "            label = 'Restoran Terbaik')\n",
        "\n",
        "plt.scatter(df_lainya.pelayanan,\n",
        "            df_lainya.makanan,\n",
        "            label='Retoran Lainnya')\n",
        "plt.xlabel('Pelayanan')\n",
        "plt.ylabel('Makanan')\n",
        "plt.title('Data Restoran')\n",
        "plt.legend(loc='lower right')\n",
        "plt.show()"
      ],
      "execution_count": null,
      "outputs": [
        {
          "output_type": "display_data",
          "data": {
            "image/png": "[encoded data removed]",
            "text/plain": [
              "<Figure size 432x288 with 1 Axes>"
            ]
          },
          "metadata": {
            "tags": [],
            "needs_background": "light"
          }
        }
      ]
    },
    {
      "cell_type": "code",
      "metadata": {
        "id": "JW0V3t6-T6gm",
        "colab": {
          "base_uri": "https://localhost:8080/"
        },
        "outputId": "b4674db7-3054-46e7-e89b-e4480e67bcf2"
      },
      "source": [
        "# menyimpan data ke dalam excel\n",
        "writer = pd.ExcelWriter('output.xlsx')\n",
        "# write dataframe to excel\n",
        "df.sort_values(by='Skor', ascending=False).to_excel(writer)\n",
        "# save the excel\n",
        "writer.save()\n",
        "print('DataFrame is written successfully to Excel File.')"
      ],
      "execution_count": null,
      "outputs": [
        {
          "output_type": "stream",
          "text": [
            "DataFrame is written successfully to Excel File.\n"
          ],
          "name": "stdout"
        }
      ]
    },
    {
      "cell_type": "code",
      "metadata": {
        "id": "ezbEjfnt3_bm"
      },
      "source": [
        ""
      ],
      "execution_count": null,
      "outputs": []
    }
  ]
}